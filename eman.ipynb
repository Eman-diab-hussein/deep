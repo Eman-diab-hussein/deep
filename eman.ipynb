{
  "nbformat": 4,
  "nbformat_minor": 0,
  "metadata": {
    "colab": {
      "provenance": [],
      "include_colab_link": true
    },
    "kernelspec": {
      "name": "python3",
      "display_name": "Python 3"
    },
    "language_info": {
      "name": "python"
    }
  },
  "cells": [
    {
      "cell_type": "markdown",
      "metadata": {
        "id": "view-in-github",
        "colab_type": "text"
      },
      "source": [
        "<a href=\"https://colab.research.google.com/github/Eman-diab-hussein/deep/blob/main/eman.ipynb\" target=\"_parent\"><img src=\"https://colab.research.google.com/assets/colab-badge.svg\" alt=\"Open In Colab\"/></a>"
      ]
    },
    {
      "cell_type": "code",
      "execution_count": 116,
      "metadata": {
        "id": "aj2aJLOCyHSZ"
      },
      "outputs": [],
      "source": [
        "import numpy as np\n",
        "import matplotlib.pyplot as plt\n",
        "import pandas as pd"
      ]
    },
    {
      "cell_type": "code",
      "source": [
        "data= pd.read_csv('/content/archive (7).zip')\n",
        "df = pd.DataFrame(data)\n",
        "df.head()"
      ],
      "metadata": {
        "colab": {
          "base_uri": "https://localhost:8080/",
          "height": 256
        },
        "id": "BokKFELVyagU",
        "outputId": "0f019120-feef-4ff7-b1b9-b8bb697d023f"
      },
      "execution_count": 154,
      "outputs": [
        {
          "output_type": "execute_result",
          "data": {
            "text/plain": [
              "   CustomerID Churn  MonthlyRevenue  MonthlyMinutes  TotalRecurringCharge  \\\n",
              "0     3000002   Yes           24.00           219.0                  22.0   \n",
              "1     3000010   Yes           16.99            10.0                  17.0   \n",
              "2     3000014    No           38.00             8.0                  38.0   \n",
              "3     3000022    No           82.28          1312.0                  75.0   \n",
              "4     3000026   Yes           17.14             0.0                  17.0   \n",
              "\n",
              "   DirectorAssistedCalls  OverageMinutes  RoamingCalls  PercChangeMinutes  \\\n",
              "0                   0.25             0.0           0.0             -157.0   \n",
              "1                   0.00             0.0           0.0               -4.0   \n",
              "2                   0.00             0.0           0.0               -2.0   \n",
              "3                   1.24             0.0           0.0              157.0   \n",
              "4                   0.00             0.0           0.0                0.0   \n",
              "\n",
              "   PercChangeRevenues  ...  ReferralsMadeBySubscriber  IncomeGroup  \\\n",
              "0               -19.0  ...                          0            4   \n",
              "1                 0.0  ...                          0            5   \n",
              "2                 0.0  ...                          0            6   \n",
              "3                 8.1  ...                          0            6   \n",
              "4                -0.2  ...                          0            9   \n",
              "\n",
              "   OwnsMotorcycle  AdjustmentsToCreditRating  HandsetPrice  \\\n",
              "0              No                          0            30   \n",
              "1              No                          0            30   \n",
              "2              No                          0       Unknown   \n",
              "3              No                          0            10   \n",
              "4              No                          1            10   \n",
              "\n",
              "   MadeCallToRetentionTeam  CreditRating  PrizmCode    Occupation  \\\n",
              "0                      Yes     1-Highest   Suburban  Professional   \n",
              "1                       No      4-Medium   Suburban  Professional   \n",
              "2                       No        3-Good       Town        Crafts   \n",
              "3                       No      4-Medium      Other         Other   \n",
              "4                       No     1-Highest      Other  Professional   \n",
              "\n",
              "   MaritalStatus  \n",
              "0             No  \n",
              "1            Yes  \n",
              "2            Yes  \n",
              "3             No  \n",
              "4            Yes  \n",
              "\n",
              "[5 rows x 58 columns]"
            ],
            "text/html": [
              "\n",
              "  <div id=\"df-c866e3ae-7cab-4ca3-b9d0-ba65642ded14\" class=\"colab-df-container\">\n",
              "    <div>\n",
              "<style scoped>\n",
              "    .dataframe tbody tr th:only-of-type {\n",
              "        vertical-align: middle;\n",
              "    }\n",
              "\n",
              "    .dataframe tbody tr th {\n",
              "        vertical-align: top;\n",
              "    }\n",
              "\n",
              "    .dataframe thead th {\n",
              "        text-align: right;\n",
              "    }\n",
              "</style>\n",
              "<table border=\"1\" class=\"dataframe\">\n",
              "  <thead>\n",
              "    <tr style=\"text-align: right;\">\n",
              "      <th></th>\n",
              "      <th>CustomerID</th>\n",
              "      <th>Churn</th>\n",
              "      <th>MonthlyRevenue</th>\n",
              "      <th>MonthlyMinutes</th>\n",
              "      <th>TotalRecurringCharge</th>\n",
              "      <th>DirectorAssistedCalls</th>\n",
              "      <th>OverageMinutes</th>\n",
              "      <th>RoamingCalls</th>\n",
              "      <th>PercChangeMinutes</th>\n",
              "      <th>PercChangeRevenues</th>\n",
              "      <th>...</th>\n",
              "      <th>ReferralsMadeBySubscriber</th>\n",
              "      <th>IncomeGroup</th>\n",
              "      <th>OwnsMotorcycle</th>\n",
              "      <th>AdjustmentsToCreditRating</th>\n",
              "      <th>HandsetPrice</th>\n",
              "      <th>MadeCallToRetentionTeam</th>\n",
              "      <th>CreditRating</th>\n",
              "      <th>PrizmCode</th>\n",
              "      <th>Occupation</th>\n",
              "      <th>MaritalStatus</th>\n",
              "    </tr>\n",
              "  </thead>\n",
              "  <tbody>\n",
              "    <tr>\n",
              "      <th>0</th>\n",
              "      <td>3000002</td>\n",
              "      <td>Yes</td>\n",
              "      <td>24.00</td>\n",
              "      <td>219.0</td>\n",
              "      <td>22.0</td>\n",
              "      <td>0.25</td>\n",
              "      <td>0.0</td>\n",
              "      <td>0.0</td>\n",
              "      <td>-157.0</td>\n",
              "      <td>-19.0</td>\n",
              "      <td>...</td>\n",
              "      <td>0</td>\n",
              "      <td>4</td>\n",
              "      <td>No</td>\n",
              "      <td>0</td>\n",
              "      <td>30</td>\n",
              "      <td>Yes</td>\n",
              "      <td>1-Highest</td>\n",
              "      <td>Suburban</td>\n",
              "      <td>Professional</td>\n",
              "      <td>No</td>\n",
              "    </tr>\n",
              "    <tr>\n",
              "      <th>1</th>\n",
              "      <td>3000010</td>\n",
              "      <td>Yes</td>\n",
              "      <td>16.99</td>\n",
              "      <td>10.0</td>\n",
              "      <td>17.0</td>\n",
              "      <td>0.00</td>\n",
              "      <td>0.0</td>\n",
              "      <td>0.0</td>\n",
              "      <td>-4.0</td>\n",
              "      <td>0.0</td>\n",
              "      <td>...</td>\n",
              "      <td>0</td>\n",
              "      <td>5</td>\n",
              "      <td>No</td>\n",
              "      <td>0</td>\n",
              "      <td>30</td>\n",
              "      <td>No</td>\n",
              "      <td>4-Medium</td>\n",
              "      <td>Suburban</td>\n",
              "      <td>Professional</td>\n",
              "      <td>Yes</td>\n",
              "    </tr>\n",
              "    <tr>\n",
              "      <th>2</th>\n",
              "      <td>3000014</td>\n",
              "      <td>No</td>\n",
              "      <td>38.00</td>\n",
              "      <td>8.0</td>\n",
              "      <td>38.0</td>\n",
              "      <td>0.00</td>\n",
              "      <td>0.0</td>\n",
              "      <td>0.0</td>\n",
              "      <td>-2.0</td>\n",
              "      <td>0.0</td>\n",
              "      <td>...</td>\n",
              "      <td>0</td>\n",
              "      <td>6</td>\n",
              "      <td>No</td>\n",
              "      <td>0</td>\n",
              "      <td>Unknown</td>\n",
              "      <td>No</td>\n",
              "      <td>3-Good</td>\n",
              "      <td>Town</td>\n",
              "      <td>Crafts</td>\n",
              "      <td>Yes</td>\n",
              "    </tr>\n",
              "    <tr>\n",
              "      <th>3</th>\n",
              "      <td>3000022</td>\n",
              "      <td>No</td>\n",
              "      <td>82.28</td>\n",
              "      <td>1312.0</td>\n",
              "      <td>75.0</td>\n",
              "      <td>1.24</td>\n",
              "      <td>0.0</td>\n",
              "      <td>0.0</td>\n",
              "      <td>157.0</td>\n",
              "      <td>8.1</td>\n",
              "      <td>...</td>\n",
              "      <td>0</td>\n",
              "      <td>6</td>\n",
              "      <td>No</td>\n",
              "      <td>0</td>\n",
              "      <td>10</td>\n",
              "      <td>No</td>\n",
              "      <td>4-Medium</td>\n",
              "      <td>Other</td>\n",
              "      <td>Other</td>\n",
              "      <td>No</td>\n",
              "    </tr>\n",
              "    <tr>\n",
              "      <th>4</th>\n",
              "      <td>3000026</td>\n",
              "      <td>Yes</td>\n",
              "      <td>17.14</td>\n",
              "      <td>0.0</td>\n",
              "      <td>17.0</td>\n",
              "      <td>0.00</td>\n",
              "      <td>0.0</td>\n",
              "      <td>0.0</td>\n",
              "      <td>0.0</td>\n",
              "      <td>-0.2</td>\n",
              "      <td>...</td>\n",
              "      <td>0</td>\n",
              "      <td>9</td>\n",
              "      <td>No</td>\n",
              "      <td>1</td>\n",
              "      <td>10</td>\n",
              "      <td>No</td>\n",
              "      <td>1-Highest</td>\n",
              "      <td>Other</td>\n",
              "      <td>Professional</td>\n",
              "      <td>Yes</td>\n",
              "    </tr>\n",
              "  </tbody>\n",
              "</table>\n",
              "<p>5 rows × 58 columns</p>\n",
              "</div>\n",
              "    <div class=\"colab-df-buttons\">\n",
              "\n",
              "  <div class=\"colab-df-container\">\n",
              "    <button class=\"colab-df-convert\" onclick=\"convertToInteractive('df-c866e3ae-7cab-4ca3-b9d0-ba65642ded14')\"\n",
              "            title=\"Convert this dataframe to an interactive table.\"\n",
              "            style=\"display:none;\">\n",
              "\n",
              "  <svg xmlns=\"http://www.w3.org/2000/svg\" height=\"24px\" viewBox=\"0 -960 960 960\">\n",
              "    <path d=\"M120-120v-720h720v720H120Zm60-500h600v-160H180v160Zm220 220h160v-160H400v160Zm0 220h160v-160H400v160ZM180-400h160v-160H180v160Zm440 0h160v-160H620v160ZM180-180h160v-160H180v160Zm440 0h160v-160H620v160Z\"/>\n",
              "  </svg>\n",
              "    </button>\n",
              "\n",
              "  <style>\n",
              "    .colab-df-container {\n",
              "      display:flex;\n",
              "      gap: 12px;\n",
              "    }\n",
              "\n",
              "    .colab-df-convert {\n",
              "      background-color: #E8F0FE;\n",
              "      border: none;\n",
              "      border-radius: 50%;\n",
              "      cursor: pointer;\n",
              "      display: none;\n",
              "      fill: #1967D2;\n",
              "      height: 32px;\n",
              "      padding: 0 0 0 0;\n",
              "      width: 32px;\n",
              "    }\n",
              "\n",
              "    .colab-df-convert:hover {\n",
              "      background-color: #E2EBFA;\n",
              "      box-shadow: 0px 1px 2px rgba(60, 64, 67, 0.3), 0px 1px 3px 1px rgba(60, 64, 67, 0.15);\n",
              "      fill: #174EA6;\n",
              "    }\n",
              "\n",
              "    .colab-df-buttons div {\n",
              "      margin-bottom: 4px;\n",
              "    }\n",
              "\n",
              "    [theme=dark] .colab-df-convert {\n",
              "      background-color: #3B4455;\n",
              "      fill: #D2E3FC;\n",
              "    }\n",
              "\n",
              "    [theme=dark] .colab-df-convert:hover {\n",
              "      background-color: #434B5C;\n",
              "      box-shadow: 0px 1px 3px 1px rgba(0, 0, 0, 0.15);\n",
              "      filter: drop-shadow(0px 1px 2px rgba(0, 0, 0, 0.3));\n",
              "      fill: #FFFFFF;\n",
              "    }\n",
              "  </style>\n",
              "\n",
              "    <script>\n",
              "      const buttonEl =\n",
              "        document.querySelector('#df-c866e3ae-7cab-4ca3-b9d0-ba65642ded14 button.colab-df-convert');\n",
              "      buttonEl.style.display =\n",
              "        google.colab.kernel.accessAllowed ? 'block' : 'none';\n",
              "\n",
              "      async function convertToInteractive(key) {\n",
              "        const element = document.querySelector('#df-c866e3ae-7cab-4ca3-b9d0-ba65642ded14');\n",
              "        const dataTable =\n",
              "          await google.colab.kernel.invokeFunction('convertToInteractive',\n",
              "                                                    [key], {});\n",
              "        if (!dataTable) return;\n",
              "\n",
              "        const docLinkHtml = 'Like what you see? Visit the ' +\n",
              "          '<a target=\"_blank\" href=https://colab.research.google.com/notebooks/data_table.ipynb>data table notebook</a>'\n",
              "          + ' to learn more about interactive tables.';\n",
              "        element.innerHTML = '';\n",
              "        dataTable['output_type'] = 'display_data';\n",
              "        await google.colab.output.renderOutput(dataTable, element);\n",
              "        const docLink = document.createElement('div');\n",
              "        docLink.innerHTML = docLinkHtml;\n",
              "        element.appendChild(docLink);\n",
              "      }\n",
              "    </script>\n",
              "  </div>\n",
              "\n",
              "\n",
              "<div id=\"df-b6227f7f-ae32-45ad-ba67-1539fc703c64\">\n",
              "  <button class=\"colab-df-quickchart\" onclick=\"quickchart('df-b6227f7f-ae32-45ad-ba67-1539fc703c64')\"\n",
              "            title=\"Suggest charts\"\n",
              "            style=\"display:none;\">\n",
              "\n",
              "<svg xmlns=\"http://www.w3.org/2000/svg\" height=\"24px\"viewBox=\"0 0 24 24\"\n",
              "     width=\"24px\">\n",
              "    <g>\n",
              "        <path d=\"M19 3H5c-1.1 0-2 .9-2 2v14c0 1.1.9 2 2 2h14c1.1 0 2-.9 2-2V5c0-1.1-.9-2-2-2zM9 17H7v-7h2v7zm4 0h-2V7h2v10zm4 0h-2v-4h2v4z\"/>\n",
              "    </g>\n",
              "</svg>\n",
              "  </button>\n",
              "\n",
              "<style>\n",
              "  .colab-df-quickchart {\n",
              "      --bg-color: #E8F0FE;\n",
              "      --fill-color: #1967D2;\n",
              "      --hover-bg-color: #E2EBFA;\n",
              "      --hover-fill-color: #174EA6;\n",
              "      --disabled-fill-color: #AAA;\n",
              "      --disabled-bg-color: #DDD;\n",
              "  }\n",
              "\n",
              "  [theme=dark] .colab-df-quickchart {\n",
              "      --bg-color: #3B4455;\n",
              "      --fill-color: #D2E3FC;\n",
              "      --hover-bg-color: #434B5C;\n",
              "      --hover-fill-color: #FFFFFF;\n",
              "      --disabled-bg-color: #3B4455;\n",
              "      --disabled-fill-color: #666;\n",
              "  }\n",
              "\n",
              "  .colab-df-quickchart {\n",
              "    background-color: var(--bg-color);\n",
              "    border: none;\n",
              "    border-radius: 50%;\n",
              "    cursor: pointer;\n",
              "    display: none;\n",
              "    fill: var(--fill-color);\n",
              "    height: 32px;\n",
              "    padding: 0;\n",
              "    width: 32px;\n",
              "  }\n",
              "\n",
              "  .colab-df-quickchart:hover {\n",
              "    background-color: var(--hover-bg-color);\n",
              "    box-shadow: 0 1px 2px rgba(60, 64, 67, 0.3), 0 1px 3px 1px rgba(60, 64, 67, 0.15);\n",
              "    fill: var(--button-hover-fill-color);\n",
              "  }\n",
              "\n",
              "  .colab-df-quickchart-complete:disabled,\n",
              "  .colab-df-quickchart-complete:disabled:hover {\n",
              "    background-color: var(--disabled-bg-color);\n",
              "    fill: var(--disabled-fill-color);\n",
              "    box-shadow: none;\n",
              "  }\n",
              "\n",
              "  .colab-df-spinner {\n",
              "    border: 2px solid var(--fill-color);\n",
              "    border-color: transparent;\n",
              "    border-bottom-color: var(--fill-color);\n",
              "    animation:\n",
              "      spin 1s steps(1) infinite;\n",
              "  }\n",
              "\n",
              "  @keyframes spin {\n",
              "    0% {\n",
              "      border-color: transparent;\n",
              "      border-bottom-color: var(--fill-color);\n",
              "      border-left-color: var(--fill-color);\n",
              "    }\n",
              "    20% {\n",
              "      border-color: transparent;\n",
              "      border-left-color: var(--fill-color);\n",
              "      border-top-color: var(--fill-color);\n",
              "    }\n",
              "    30% {\n",
              "      border-color: transparent;\n",
              "      border-left-color: var(--fill-color);\n",
              "      border-top-color: var(--fill-color);\n",
              "      border-right-color: var(--fill-color);\n",
              "    }\n",
              "    40% {\n",
              "      border-color: transparent;\n",
              "      border-right-color: var(--fill-color);\n",
              "      border-top-color: var(--fill-color);\n",
              "    }\n",
              "    60% {\n",
              "      border-color: transparent;\n",
              "      border-right-color: var(--fill-color);\n",
              "    }\n",
              "    80% {\n",
              "      border-color: transparent;\n",
              "      border-right-color: var(--fill-color);\n",
              "      border-bottom-color: var(--fill-color);\n",
              "    }\n",
              "    90% {\n",
              "      border-color: transparent;\n",
              "      border-bottom-color: var(--fill-color);\n",
              "    }\n",
              "  }\n",
              "</style>\n",
              "\n",
              "  <script>\n",
              "    async function quickchart(key) {\n",
              "      const quickchartButtonEl =\n",
              "        document.querySelector('#' + key + ' button');\n",
              "      quickchartButtonEl.disabled = true;  // To prevent multiple clicks.\n",
              "      quickchartButtonEl.classList.add('colab-df-spinner');\n",
              "      try {\n",
              "        const charts = await google.colab.kernel.invokeFunction(\n",
              "            'suggestCharts', [key], {});\n",
              "      } catch (error) {\n",
              "        console.error('Error during call to suggestCharts:', error);\n",
              "      }\n",
              "      quickchartButtonEl.classList.remove('colab-df-spinner');\n",
              "      quickchartButtonEl.classList.add('colab-df-quickchart-complete');\n",
              "    }\n",
              "    (() => {\n",
              "      let quickchartButtonEl =\n",
              "        document.querySelector('#df-b6227f7f-ae32-45ad-ba67-1539fc703c64 button');\n",
              "      quickchartButtonEl.style.display =\n",
              "        google.colab.kernel.accessAllowed ? 'block' : 'none';\n",
              "    })();\n",
              "  </script>\n",
              "</div>\n",
              "\n",
              "    </div>\n",
              "  </div>\n"
            ],
            "application/vnd.google.colaboratory.intrinsic+json": {
              "type": "dataframe",
              "variable_name": "df"
            }
          },
          "metadata": {},
          "execution_count": 154
        }
      ]
    },
    {
      "cell_type": "code",
      "source": [
        "df.info()"
      ],
      "metadata": {
        "colab": {
          "base_uri": "https://localhost:8080/"
        },
        "id": "dBp6C6YMy83h",
        "outputId": "068fcea9-d13d-4d7f-b73d-71dc59d09e93",
        "collapsed": true
      },
      "execution_count": null,
      "outputs": [
        {
          "output_type": "stream",
          "name": "stdout",
          "text": [
            "<class 'pandas.core.frame.DataFrame'>\n",
            "RangeIndex: 51047 entries, 0 to 51046\n",
            "Data columns (total 58 columns):\n",
            " #   Column                     Non-Null Count  Dtype  \n",
            "---  ------                     --------------  -----  \n",
            " 0   CustomerID                 51047 non-null  int64  \n",
            " 1   Churn                      51047 non-null  object \n",
            " 2   MonthlyRevenue             50891 non-null  float64\n",
            " 3   MonthlyMinutes             50891 non-null  float64\n",
            " 4   TotalRecurringCharge       50891 non-null  float64\n",
            " 5   DirectorAssistedCalls      50891 non-null  float64\n",
            " 6   OverageMinutes             50891 non-null  float64\n",
            " 7   RoamingCalls               50891 non-null  float64\n",
            " 8   PercChangeMinutes          50680 non-null  float64\n",
            " 9   PercChangeRevenues         50680 non-null  float64\n",
            " 10  DroppedCalls               51047 non-null  float64\n",
            " 11  BlockedCalls               51047 non-null  float64\n",
            " 12  UnansweredCalls            51047 non-null  float64\n",
            " 13  CustomerCareCalls          51047 non-null  float64\n",
            " 14  ThreewayCalls              51047 non-null  float64\n",
            " 15  ReceivedCalls              51047 non-null  float64\n",
            " 16  OutboundCalls              51047 non-null  float64\n",
            " 17  InboundCalls               51047 non-null  float64\n",
            " 18  PeakCallsInOut             51047 non-null  float64\n",
            " 19  OffPeakCallsInOut          51047 non-null  float64\n",
            " 20  DroppedBlockedCalls        51047 non-null  float64\n",
            " 21  CallForwardingCalls        51047 non-null  float64\n",
            " 22  CallWaitingCalls           51047 non-null  float64\n",
            " 23  MonthsInService            51047 non-null  int64  \n",
            " 24  UniqueSubs                 51047 non-null  int64  \n",
            " 25  ActiveSubs                 51047 non-null  int64  \n",
            " 26  ServiceArea                51023 non-null  object \n",
            " 27  Handsets                   51046 non-null  float64\n",
            " 28  HandsetModels              51046 non-null  float64\n",
            " 29  CurrentEquipmentDays       51046 non-null  float64\n",
            " 30  AgeHH1                     50138 non-null  float64\n",
            " 31  AgeHH2                     50138 non-null  float64\n",
            " 32  ChildrenInHH               51047 non-null  object \n",
            " 33  HandsetRefurbished         51047 non-null  object \n",
            " 34  HandsetWebCapable          51047 non-null  object \n",
            " 35  TruckOwner                 51047 non-null  object \n",
            " 36  RVOwner                    51047 non-null  object \n",
            " 37  Homeownership              51047 non-null  object \n",
            " 38  BuysViaMailOrder           51047 non-null  object \n",
            " 39  RespondsToMailOffers       51047 non-null  object \n",
            " 40  OptOutMailings             51047 non-null  object \n",
            " 41  NonUSTravel                51047 non-null  object \n",
            " 42  OwnsComputer               51047 non-null  object \n",
            " 43  HasCreditCard              51047 non-null  object \n",
            " 44  RetentionCalls             51047 non-null  int64  \n",
            " 45  RetentionOffersAccepted    51047 non-null  int64  \n",
            " 46  NewCellphoneUser           51047 non-null  object \n",
            " 47  NotNewCellphoneUser        51047 non-null  object \n",
            " 48  ReferralsMadeBySubscriber  51047 non-null  int64  \n",
            " 49  IncomeGroup                51047 non-null  int64  \n",
            " 50  OwnsMotorcycle             51047 non-null  object \n",
            " 51  AdjustmentsToCreditRating  51047 non-null  int64  \n",
            " 52  HandsetPrice               51047 non-null  object \n",
            " 53  MadeCallToRetentionTeam    51047 non-null  object \n",
            " 54  CreditRating               51047 non-null  object \n",
            " 55  PrizmCode                  51047 non-null  object \n",
            " 56  Occupation                 51047 non-null  object \n",
            " 57  MaritalStatus              51047 non-null  object \n",
            "dtypes: float64(26), int64(9), object(23)\n",
            "memory usage: 22.6+ MB\n"
          ]
        }
      ]
    },
    {
      "cell_type": "code",
      "source": [
        "df.isna().sum()"
      ],
      "metadata": {
        "colab": {
          "base_uri": "https://localhost:8080/"
        },
        "id": "h5PadOFszFzs",
        "outputId": "d37c4eeb-232b-4763-c6c8-5160b8631fa6",
        "collapsed": true
      },
      "execution_count": null,
      "outputs": [
        {
          "output_type": "execute_result",
          "data": {
            "text/plain": [
              "CustomerID                     0\n",
              "Churn                          0\n",
              "MonthlyRevenue               156\n",
              "MonthlyMinutes               156\n",
              "TotalRecurringCharge         156\n",
              "DirectorAssistedCalls        156\n",
              "OverageMinutes               156\n",
              "RoamingCalls                 156\n",
              "PercChangeMinutes            367\n",
              "PercChangeRevenues           367\n",
              "DroppedCalls                   0\n",
              "BlockedCalls                   0\n",
              "UnansweredCalls                0\n",
              "CustomerCareCalls              0\n",
              "ThreewayCalls                  0\n",
              "ReceivedCalls                  0\n",
              "OutboundCalls                  0\n",
              "InboundCalls                   0\n",
              "PeakCallsInOut                 0\n",
              "OffPeakCallsInOut              0\n",
              "DroppedBlockedCalls            0\n",
              "CallForwardingCalls            0\n",
              "CallWaitingCalls               0\n",
              "MonthsInService                0\n",
              "UniqueSubs                     0\n",
              "ActiveSubs                     0\n",
              "ServiceArea                   24\n",
              "Handsets                       1\n",
              "HandsetModels                  1\n",
              "CurrentEquipmentDays           1\n",
              "AgeHH1                       909\n",
              "AgeHH2                       909\n",
              "ChildrenInHH                   0\n",
              "HandsetRefurbished             0\n",
              "HandsetWebCapable              0\n",
              "TruckOwner                     0\n",
              "RVOwner                        0\n",
              "Homeownership                  0\n",
              "BuysViaMailOrder               0\n",
              "RespondsToMailOffers           0\n",
              "OptOutMailings                 0\n",
              "NonUSTravel                    0\n",
              "OwnsComputer                   0\n",
              "HasCreditCard                  0\n",
              "RetentionCalls                 0\n",
              "RetentionOffersAccepted        0\n",
              "NewCellphoneUser               0\n",
              "NotNewCellphoneUser            0\n",
              "ReferralsMadeBySubscriber      0\n",
              "IncomeGroup                    0\n",
              "OwnsMotorcycle                 0\n",
              "AdjustmentsToCreditRating      0\n",
              "HandsetPrice                   0\n",
              "MadeCallToRetentionTeam        0\n",
              "CreditRating                   0\n",
              "PrizmCode                      0\n",
              "Occupation                     0\n",
              "MaritalStatus                  0\n",
              "dtype: int64"
            ]
          },
          "metadata": {},
          "execution_count": 3
        }
      ]
    },
    {
      "cell_type": "code",
      "source": [
        "df['ServiceArea'] = df['ServiceArea'].fillna(df['ServiceArea'].mode()[0])\n",
        "df[['MonthlyRevenue', 'MonthlyMinutes', 'TotalRecurringCharge', 'DirectorAssistedCalls', 'OverageMinutes', 'RoamingCalls', 'PercChangeMinutes', 'PercChangeRevenues', 'AgeHH1', 'AgeHH2', 'Handsets', 'HandsetModels', 'CurrentEquipmentDays']] = df[['MonthlyRevenue', 'MonthlyMinutes', 'TotalRecurringCharge', 'DirectorAssistedCalls', 'OverageMinutes', 'RoamingCalls', 'PercChangeMinutes', 'PercChangeRevenues', 'AgeHH1', 'AgeHH2', 'Handsets', 'HandsetModels', 'CurrentEquipmentDays']].fillna(df[['MonthlyRevenue', 'MonthlyMinutes', 'TotalRecurringCharge', 'DirectorAssistedCalls', 'OverageMinutes', 'RoamingCalls', 'PercChangeMinutes', 'PercChangeRevenues', 'AgeHH1', 'AgeHH2', 'Handsets', 'HandsetModels', 'CurrentEquipmentDays']].median())\n",
        "\n",
        "#Mode is used for categorical or discrete data\n",
        "#median is commonly used for numerical data."
      ],
      "metadata": {
        "id": "RN-Woacvy_tn"
      },
      "execution_count": 171,
      "outputs": []
    },
    {
      "cell_type": "code",
      "source": [
        "df.isna().sum()"
      ],
      "metadata": {
        "colab": {
          "base_uri": "https://localhost:8080/"
        },
        "id": "s4F4zNNKxC9i",
        "outputId": "0c9a809a-f39c-41e2-e34b-2f1159100618",
        "collapsed": true
      },
      "execution_count": 119,
      "outputs": [
        {
          "output_type": "execute_result",
          "data": {
            "text/plain": [
              "CustomerID                   0\n",
              "Churn                        0\n",
              "MonthlyRevenue               0\n",
              "MonthlyMinutes               0\n",
              "TotalRecurringCharge         0\n",
              "DirectorAssistedCalls        0\n",
              "OverageMinutes               0\n",
              "RoamingCalls                 0\n",
              "PercChangeMinutes            0\n",
              "PercChangeRevenues           0\n",
              "DroppedCalls                 0\n",
              "BlockedCalls                 0\n",
              "UnansweredCalls              0\n",
              "CustomerCareCalls            0\n",
              "ThreewayCalls                0\n",
              "ReceivedCalls                0\n",
              "OutboundCalls                0\n",
              "InboundCalls                 0\n",
              "PeakCallsInOut               0\n",
              "OffPeakCallsInOut            0\n",
              "DroppedBlockedCalls          0\n",
              "CallForwardingCalls          0\n",
              "CallWaitingCalls             0\n",
              "MonthsInService              0\n",
              "UniqueSubs                   0\n",
              "ActiveSubs                   0\n",
              "ServiceArea                  0\n",
              "Handsets                     0\n",
              "HandsetModels                0\n",
              "CurrentEquipmentDays         0\n",
              "AgeHH1                       0\n",
              "AgeHH2                       0\n",
              "ChildrenInHH                 0\n",
              "HandsetRefurbished           0\n",
              "HandsetWebCapable            0\n",
              "TruckOwner                   0\n",
              "RVOwner                      0\n",
              "Homeownership                0\n",
              "BuysViaMailOrder             0\n",
              "RespondsToMailOffers         0\n",
              "OptOutMailings               0\n",
              "NonUSTravel                  0\n",
              "OwnsComputer                 0\n",
              "HasCreditCard                0\n",
              "RetentionCalls               0\n",
              "RetentionOffersAccepted      0\n",
              "NewCellphoneUser             0\n",
              "NotNewCellphoneUser          0\n",
              "ReferralsMadeBySubscriber    0\n",
              "IncomeGroup                  0\n",
              "OwnsMotorcycle               0\n",
              "AdjustmentsToCreditRating    0\n",
              "HandsetPrice                 0\n",
              "MadeCallToRetentionTeam      0\n",
              "CreditRating                 0\n",
              "PrizmCode                    0\n",
              "Occupation                   0\n",
              "MaritalStatus                0\n",
              "dtype: int64"
            ]
          },
          "metadata": {},
          "execution_count": 119
        }
      ]
    },
    {
      "cell_type": "code",
      "source": [
        "#Show duplicated rows\n",
        "df.duplicated().sum()"
      ],
      "metadata": {
        "colab": {
          "base_uri": "https://localhost:8080/"
        },
        "id": "vHazym_9xHfM",
        "outputId": "ef953236-750e-4341-8f6c-c557412097be"
      },
      "execution_count": 120,
      "outputs": [
        {
          "output_type": "execute_result",
          "data": {
            "text/plain": [
              "0"
            ]
          },
          "metadata": {},
          "execution_count": 120
        }
      ]
    },
    {
      "cell_type": "code",
      "source": [
        "df = pd.get_dummies(df, columns=['HandsetPrice','MaritalStatus','PrizmCode','Occupation'])\n",
        "# not have a specific order\n",
        "#one-Hot Encoding can lead to a significant increase in the dimensionality"
      ],
      "metadata": {
        "id": "75FUIbj7qiVT"
      },
      "execution_count": 156,
      "outputs": []
    },
    {
      "cell_type": "code",
      "source": [
        "#df = df.drop(columns=['CustomerID'])"
      ],
      "metadata": {
        "id": "Jmf6fanKE6it"
      },
      "execution_count": 94,
      "outputs": []
    },
    {
      "cell_type": "code",
      "source": [
        "# prompt: lable encoding for more colomn with the same time\n",
        "from sklearn.preprocessing import LabelEncoder\n",
        "label_encoder = LabelEncoder()\n",
        "for columns in ['Churn','ChildrenInHH','ServiceArea','HandsetRefurbished','HandsetWebCapable','TruckOwner','RVOwner','Homeownership','BuysViaMailOrder','RespondsToMailOffers','OptOutMailings','NonUSTravel','OwnsComputer','HasCreditCard','NewCellphoneUser','NotNewCellphoneUser','OwnsMotorcycle','MadeCallToRetentionTeam','CreditRating']:\n",
        "    df[columns] = label_encoder.fit_transform(df[columns])\n"
      ],
      "metadata": {
        "id": "JQQiQjtMw9Hq"
      },
      "execution_count": 158,
      "outputs": []
    },
    {
      "cell_type": "code",
      "source": [
        "df.info();"
      ],
      "metadata": {
        "id": "inwLEKMR4yxM"
      },
      "execution_count": null,
      "outputs": []
    },
    {
      "cell_type": "code",
      "source": [
        "from sklearn.preprocessing import StandardScaler\n",
        "scaler = StandardScaler()\n",
        "\n",
        "columns_to_normalize = ['PercChangeMinutes','PercChangeRevenues','MonthlyRevenue','MonthlyMinutes','TotalRecurringCharge','DirectorAssistedCalls','OverageMinutes','RoamingCalls','DroppedCalls','BlockedCalls','UnansweredCalls','CustomerCareCalls','ThreewayCalls','ReceivedCalls','OutboundCalls','InboundCalls','PeakCallsInOut','OffPeakCallsInOut','DroppedBlockedCalls','CallForwardingCalls','CallWaitingCalls','MonthsInService','UniqueSubs','ActiveSubs','Handsets','HandsetModels','CurrentEquipmentDays','AgeHH1','AgeHH2','RetentionCalls','RetentionOffersAccepted','ReferralsMadeBySubscriber','IncomeGroup','AdjustmentsToCreditRating']\n",
        "df[columns_to_normalize] = scaler.fit_transform(df[columns_to_normalize])\n"
      ],
      "metadata": {
        "id": "n7viBcKVh2nx"
      },
      "execution_count": 161,
      "outputs": []
    },
    {
      "cell_type": "code",
      "source": [
        "df['Churn'].value_counts()"
      ],
      "metadata": {
        "colab": {
          "base_uri": "https://localhost:8080/"
        },
        "id": "9TxUyoKEw-zv",
        "outputId": "c4c46fb3-e563-4ffe-de52-d54b68027c2b"
      },
      "execution_count": 162,
      "outputs": [
        {
          "output_type": "execute_result",
          "data": {
            "text/plain": [
              "Churn\n",
              "0    36336\n",
              "1    14711\n",
              "Name: count, dtype: int64"
            ]
          },
          "metadata": {},
          "execution_count": 162
        }
      ]
    },
    {
      "cell_type": "code",
      "source": [
        "import seaborn as sns\n",
        "\n",
        "sns.countplot(x='Churn', data=df)\n",
        "plt.title(\"Imbalance data\")\n",
        "plt.show()"
      ],
      "metadata": {
        "colab": {
          "base_uri": "https://localhost:8080/",
          "height": 472
        },
        "id": "0Hoba8mmOisI",
        "outputId": "8e87ed8e-9f7d-4be0-ed97-a5e021395a49"
      },
      "execution_count": 163,
      "outputs": [
        {
          "output_type": "display_data",
          "data": {
            "text/plain": [
              "<Figure size 640x480 with 1 Axes>"
            ],
            "image/png": "[encoded data removed]"
          },
          "metadata": {}
        }
      ]
    },
    {
      "cell_type": "code",
      "source": [
        "from sklearn.model_selection import train_test_split\n",
        "y = df['Churn']\n",
        "X = df.drop(columns=['Churn'])"
      ],
      "metadata": {
        "id": "7gxJhW1LOuL5"
      },
      "execution_count": 164,
      "outputs": []
    },
    {
      "cell_type": "code",
      "source": [],
      "metadata": {
        "id": "JVWSeiv9tcD4"
      },
      "execution_count": 127,
      "outputs": []
    },
    {
      "cell_type": "code",
      "source": [
        "from imblearn.over_sampling import SMOTE\n",
        "import pandas as pd\n",
        "\n",
        "\n",
        "# Define target number of samples for the minority class\n",
        "target_class_os = 1\n",
        "target_samples = 27000\n",
        "\n",
        "\n",
        "current_majority_class_size = df[df['Churn'] == 0].shape[0]\n",
        "current_minority_class_size = df[df['Churn'] == 1].shape[0]\n",
        "\n",
        "\n",
        "samples_to_generate = target_samples - current_minority_class_size\n",
        "\n",
        "smote = SMOTE(sampling_strategy={target_class_os: target_samples}, random_state=42)\n",
        "\n",
        "\n",
        "X_resampled, y_resampled = smote.fit_resample(X, y)\n",
        "\n",
        "print(f'New class distribution after resampling: {y_resampled.value_counts()}')\n"
      ],
      "metadata": {
        "colab": {
          "base_uri": "https://localhost:8080/"
        },
        "id": "PrcyN9ObMSc5",
        "outputId": "e69d8ebe-9ea0-4841-b809-0dcdea539991"
      },
      "execution_count": 165,
      "outputs": [
        {
          "output_type": "stream",
          "name": "stdout",
          "text": [
            "New class distribution after resampling: Churn\n",
            "0    36336\n",
            "1    27000\n",
            "Name: count, dtype: int64\n"
          ]
        }
      ]
    },
    {
      "cell_type": "code",
      "source": [
        "X_train, X_test, y_train, y_test = train_test_split(X_resampled, y_resampled, test_size=0.3, random_state=42 )"
      ],
      "metadata": {
        "id": "l7gJ_K6BQO2f"
      },
      "execution_count": 166,
      "outputs": []
    },
    {
      "cell_type": "code",
      "source": [
        "from sklearn.metrics import accuracy_score,precision_score,recall_score,f1_score,confusion_matrix, classification_report\n",
        "\n",
        "from sklearn.ensemble import RandomForestClassifier\n",
        "\n",
        "rfcla = RandomForestClassifier(n_estimators=100,random_state=9)\n",
        "rfcla.fit(X_train, y_train)\n",
        "y_pred = rfcla.predict(X_test)\n",
        "\n",
        "\n",
        "print('Accuracy :', accuracy_score(y_test, y_pred))\n",
        "print('Precision:', precision_score(y_test, y_pred))\n",
        "print('Recall :', recall_score(y_test, y_pred))\n",
        "print('F1-score :', f1_score(y_test, y_pred))\n",
        "print('Confusion_matrix :',confusion_matrix(y_test, y_pred))"
      ],
      "metadata": {
        "id": "KRT3qTSRQRUq",
        "colab": {
          "base_uri": "https://localhost:8080/"
        },
        "outputId": "e24eb2db-e7dc-4266-abd9-4e308687e3a3"
      },
      "execution_count": 147,
      "outputs": [
        {
          "output_type": "stream",
          "name": "stdout",
          "text": [
            "Accuracy : 0.7685384979737908\n",
            "Precision: 0.9029608817808515\n",
            "Recall : 0.514088839670235\n",
            "F1-score : 0.6551670064293555\n",
            "Confusion_matrix : [[10425   449]\n",
            " [ 3949  4178]]\n"
          ]
        }
      ]
    },
    {
      "cell_type": "code",
      "source": [
        "from keras.layers import LSTM,Dense,Dropout\n",
        "import tensorflow as tf\n",
        "from tensorflow import keras\n",
        "from keras import models,layers\n",
        "from keras.models import Sequential\n",
        "from keras.layers import Dense\n",
        "model = Sequential()\n",
        "model.add(Dense(64, activation='tanh'))\n",
        "model.add(Dense(64, activation='tanh'))\n",
        "model.add(Dense(64, activation='tanh'))\n",
        "model.add(Dense(1, activation='sigmoid'))\n",
        "\n"
      ],
      "metadata": {
        "id": "5v8m91R_WbL_"
      },
      "execution_count": 104,
      "outputs": []
    },
    {
      "cell_type": "code",
      "source": [],
      "metadata": {
        "id": "Wzz2HlNIN-gL"
      },
      "execution_count": null,
      "outputs": []
    },
    {
      "cell_type": "code",
      "source": [
        "Model2.summary()"
      ],
      "metadata": {
        "colab": {
          "base_uri": "https://localhost:8080/"
        },
        "id": "7rZYoIcGXRd5",
        "outputId": "c7288d67-e5a0-4feb-92cf-95545ddc4f05"
      },
      "execution_count": null,
      "outputs": [
        {
          "output_type": "stream",
          "name": "stdout",
          "text": [
            "Model: \"sequential_8\"\n",
            "_________________________________________________________________\n",
            " Layer (type)                Output Shape              Param #   \n",
            "=================================================================\n",
            " dense_32 (Dense)            (None, 84, 64)            128       \n",
            "                                                                 \n",
            " dense_33 (Dense)            (None, 84, 128)           8320      \n",
            "                                                                 \n",
            " dense_34 (Dense)            (None, 84, 256)           33024     \n",
            "                                                                 \n",
            " dense_35 (Dense)            (None, 84, 1)             257       \n",
            "                                                                 \n",
            "=================================================================\n",
            "Total params: 41729 (163.00 KB)\n",
            "Trainable params: 41729 (163.00 KB)\n",
            "Non-trainable params: 0 (0.00 Byte)\n",
            "_________________________________________________________________\n"
          ]
        }
      ]
    },
    {
      "cell_type": "code",
      "source": [
        "model.compile(optimizer='adam', loss='mse', metrics=['accuracy'])\n"
      ],
      "metadata": {
        "id": "KKAb913BXZ1G"
      },
      "execution_count": 79,
      "outputs": []
    },
    {
      "cell_type": "code",
      "source": [
        "X_train = X_train.astype('float32')\n",
        "y_train = y_train.astype('float32')"
      ],
      "metadata": {
        "id": "gWdDeie_aC7f"
      },
      "execution_count": 80,
      "outputs": []
    },
    {
      "cell_type": "code",
      "source": [
        "model.fit(X_train, y_train, epochs=120, batch_size=128)\n"
      ],
      "metadata": {
        "colab": {
          "base_uri": "https://localhost:8080/"
        },
        "id": "MZBnNs6nXfBo",
        "outputId": "81b44948-1b71-418a-814e-903e4942050c"
      },
      "execution_count": 92,
      "outputs": [
        {
          "output_type": "stream",
          "name": "stdout",
          "text": [
            "Epoch 1/20\n",
            "347/347 [==============================] - 1s 4ms/step - loss: 0.1572 - accuracy: 0.7621\n",
            "Epoch 2/20\n",
            "347/347 [==============================] - 1s 4ms/step - loss: 0.1559 - accuracy: 0.7630\n",
            "Epoch 3/20\n",
            "347/347 [==============================] - 1s 3ms/step - loss: 0.1559 - accuracy: 0.7620\n",
            "Epoch 4/20\n",
            "347/347 [==============================] - 1s 3ms/step - loss: 0.1564 - accuracy: 0.7632\n",
            "Epoch 5/20\n",
            "347/347 [==============================] - 1s 3ms/step - loss: 0.1564 - accuracy: 0.7622\n",
            "Epoch 6/20\n",
            "347/347 [==============================] - 1s 2ms/step - loss: 0.1562 - accuracy: 0.7630\n",
            "Epoch 7/20\n",
            "347/347 [==============================] - 1s 2ms/step - loss: 0.1568 - accuracy: 0.7618\n",
            "Epoch 8/20\n",
            "347/347 [==============================] - 1s 2ms/step - loss: 0.1569 - accuracy: 0.7621\n",
            "Epoch 9/20\n",
            "347/347 [==============================] - 1s 2ms/step - loss: 0.1580 - accuracy: 0.7603\n",
            "Epoch 10/20\n",
            "347/347 [==============================] - 1s 2ms/step - loss: 0.1574 - accuracy: 0.7603\n",
            "Epoch 11/20\n",
            "347/347 [==============================] - 1s 2ms/step - loss: 0.1567 - accuracy: 0.7626\n",
            "Epoch 12/20\n",
            "347/347 [==============================] - 1s 2ms/step - loss: 0.1569 - accuracy: 0.7612\n",
            "Epoch 13/20\n",
            "347/347 [==============================] - 1s 2ms/step - loss: 0.1565 - accuracy: 0.7620\n",
            "Epoch 14/20\n",
            "347/347 [==============================] - 1s 2ms/step - loss: 0.1573 - accuracy: 0.7611\n",
            "Epoch 15/20\n",
            "347/347 [==============================] - 1s 2ms/step - loss: 0.1569 - accuracy: 0.7618\n",
            "Epoch 16/20\n",
            "347/347 [==============================] - 1s 2ms/step - loss: 0.1576 - accuracy: 0.7600\n",
            "Epoch 17/20\n",
            "347/347 [==============================] - 1s 2ms/step - loss: 0.1562 - accuracy: 0.7619\n",
            "Epoch 18/20\n",
            "347/347 [==============================] - 1s 2ms/step - loss: 0.1565 - accuracy: 0.7626\n",
            "Epoch 19/20\n",
            "347/347 [==============================] - 1s 2ms/step - loss: 0.1576 - accuracy: 0.7603\n",
            "Epoch 20/20\n",
            "347/347 [==============================] - 1s 3ms/step - loss: 0.1559 - accuracy: 0.7637\n"
          ]
        },
        {
          "output_type": "execute_result",
          "data": {
            "text/plain": [
              "<keras.src.callbacks.History at 0x7c03f82eb190>"
            ]
          },
          "metadata": {},
          "execution_count": 92
        }
      ]
    }
  ]
}