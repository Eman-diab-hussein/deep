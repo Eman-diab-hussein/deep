{
  "nbformat": 4,
  "nbformat_minor": 0,
  "metadata": {
    "colab": {
      "provenance": [],
      "include_colab_link": true
    },
    "kernelspec": {
      "name": "python3",
      "display_name": "Python 3"
    }
  },
  "cells": [
    {
      "cell_type": "markdown",
      "metadata": {
        "id": "view-in-github",
        "colab_type": "text"
      },
      "source": [
        "<a href=\"https://colab.research.google.com/github/Eman-diab-hussein/deep/blob/main/ML_Lab_L1.ipynb\" target=\"_parent\"><img src=\"https://colab.research.google.com/assets/colab-badge.svg\" alt=\"Open In Colab\"/></a>"
      ]
    },
    {
      "cell_type": "code",
      "metadata": {
        "id": "SF8skzfRqcx7",
        "colab": {
          "base_uri": "https://localhost:8080/"
        },
        "outputId": "6338ac2b-651e-442d-e554-e766de630362"
      },
      "source": [
        "a = 5\n",
        "b = 6\n",
        "\n",
        "# swap\n",
        "#a,b = b,a\n",
        "#print('a = ' , a ,'    ', 'b = ', b)\n",
        "\n",
        "# another swap\n",
        "\n",
        "a = a + b\n",
        "b = a - b\n",
        "a = a - b\n",
        "print('a = ' , a ,'    ', 'b = ', b)\n",
        "\n",
        "\n"
      ],
      "execution_count": null,
      "outputs": [
        {
          "output_type": "stream",
          "name": "stdout",
          "text": [
            "a =  6      b =  5\n"
          ]
        }
      ]
    },
    {
      "cell_type": "code",
      "source": [
        "# prompt: read csv file in pandas\n",
        "\n",
        "import pandas as pd\n",
        "\n",
        "df = pd.read_csv('my_data.csv')\n",
        "\n",
        "print(df)\n"
      ],
      "metadata": {
        "id": "EwEYv4-ViYdY"
      },
      "execution_count": null,
      "outputs": []
    },
    {
      "cell_type": "code",
      "source": [],
      "metadata": {
        "id": "faBHMxLxTDeA"
      },
      "execution_count": null,
      "outputs": []
    },
    {
      "cell_type": "code",
      "source": [
        "txt = \"Hello World\"\n",
        "txt1 = txt[::-1 ]\n",
        "txt2 = txt[:-1]\n",
        "\n",
        "print(txt1)\n",
        "print(txt2)"
      ],
      "metadata": {
        "id": "krtM-8Sx37yU",
        "colab": {
          "base_uri": "https://localhost:8080/"
        },
        "outputId": "be24db33-17ad-4534-e2d5-a03c9ae1ba97"
      },
      "execution_count": null,
      "outputs": [
        {
          "output_type": "stream",
          "name": "stdout",
          "text": [
            "dlroW olleH\n",
            "Hello Worl\n"
          ]
        }
      ]
    },
    {
      "cell_type": "code",
      "metadata": {
        "id": "z1a2XyMxTj2L",
        "colab": {
          "base_uri": "https://localhost:8080/"
        },
        "outputId": "2a2efd20-d2f3-4e0d-c316-ec5cd28fe59b"
      },
      "source": [
        "# Find if the string is a palindrome\n",
        "\n",
        "s = input('Enter a string  ')\n",
        "if s == s[::-1]:\n",
        "  print('The string is a palindrome')\n",
        "else:\n",
        "  print('The string is not a palindrome')\n"
      ],
      "execution_count": null,
      "outputs": [
        {
          "output_type": "stream",
          "name": "stdout",
          "text": [
            "Enter a string  karak\n",
            "The string is a palindrome\n"
          ]
        }
      ]
    },
    {
      "cell_type": "code",
      "metadata": {
        "id": "EcIy36ffWb6h"
      },
      "source": [
        "\n",
        "# Write a python program to insert a new string before the second element in a string\n",
        "s = input('Enter a string ')\n",
        "t = 'Hello world'\n",
        "t = t[0] + s + t[1:]\n",
        "print(t)"
      ],
      "execution_count": null,
      "outputs": []
    },
    {
      "cell_type": "code",
      "source": [
        "s = \"Hello World\"\n",
        "\n",
        "for i in s:\n",
        "  print(i)\n",
        "\n",
        "for i in range(len(s)):\n",
        "  print(i)"
      ],
      "metadata": {
        "id": "BM2rAsvh28AM"
      },
      "execution_count": null,
      "outputs": []
    },
    {
      "cell_type": "code",
      "metadata": {
        "id": "xmKK1lJBXLPT",
        "colab": {
          "base_uri": "https://localhost:8080/"
        },
        "outputId": "3113e980-fe96-4a72-d9ec-aa4128bd4bef"
      },
      "source": [
        "\n",
        "# Write a python program to find how many duplicate letters are in a string\n",
        "s = input('Enter a string  ')\n",
        "m = {}\n",
        "for i in s:\n",
        "  if i in m.keys() :\n",
        "    m[i]+=1\n",
        "  else :\n",
        "    m[i] = 1\n",
        "\n",
        "count = 0\n",
        "for i in m.values() :\n",
        "  if i > 1 :\n",
        "    count = count +1\n",
        "\n",
        "print(count)\n",
        "print(m)"
      ],
      "execution_count": null,
      "outputs": [
        {
          "output_type": "stream",
          "name": "stdout",
          "text": [
            "Enter a string  Hello World\n",
            "2\n",
            "{'H': 1, 'e': 1, 'l': 3, 'o': 2, ' ': 1, 'W': 1, 'r': 1, 'd': 1}\n"
          ]
        }
      ]
    },
    {
      "cell_type": "code",
      "metadata": {
        "id": "Gcp7EOEjZOpF"
      },
      "source": [
        "\n",
        "# Write a python code to swap ‘A’ with ‘X’ in a string and ‘X’ with ‘A’\n",
        "s = input('Enter a string  ')\n",
        "slist = list(s)\n",
        "for i in range(len(slist)) :\n",
        "  if slist[i] == 'a' :\n",
        "    slist[i] = 'x'\n",
        "  elif slist[i] == 'x':\n",
        "    slist[i] = 'a'\n",
        "s = \"\".join(slist)\n",
        "print(s)"
      ],
      "execution_count": null,
      "outputs": []
    },
    {
      "cell_type": "code",
      "metadata": {
        "id": "J2-ZKrRcdGbz"
      },
      "source": [
        "# Write a Python program to get the number of occurrences of a specified character in a string\n",
        "\n",
        "s = input('Enter a string  ')\n",
        "char = input('Enter a character  ')\n",
        "count = 0\n",
        "\n",
        "for i in s :\n",
        "  if i == char :\n",
        "    count +=1\n",
        "\n",
        "print('The number of occurrences of ',char , ' = ' ,count)"
      ],
      "execution_count": null,
      "outputs": []
    },
    {
      "cell_type": "code",
      "metadata": {
        "id": "AQoWwuwqeHzD"
      },
      "source": [
        "\n",
        "''' Write a Python program to get a string made of the first 2 and the last 2 chars\n",
        " from a given string. If the string length is less than 2, return empty string '''\n",
        "\n",
        "s = input('Enter a string  ')\n",
        "if len(s) >= 2 :\n",
        "  s = s[:2] + s[len(s)-2 : len(s)]\n",
        "else:\n",
        "  s = ''\n",
        "\n",
        "print(s)\n",
        "\n",
        "\n"
      ],
      "execution_count": null,
      "outputs": []
    },
    {
      "cell_type": "code",
      "metadata": {
        "id": "ls7sVK-JfvmL"
      },
      "source": [
        "\n",
        "''' Write a Python program to get a single string from two given strings,\n",
        "    separated by a space and swap the first two characters of each string '''\n",
        "\n",
        "str1 = input('Enter a string  ')\n",
        "str2 = input('Enter a string  ')\n",
        "\n",
        "s = str2[:2]+str1[2:] + ' ' + str1[:2]+str2[2:]\n",
        "print(s)\n"
      ],
      "execution_count": null,
      "outputs": []
    },
    {
      "cell_type": "code",
      "metadata": {
        "id": "lo8ry009hDc9",
        "colab": {
          "base_uri": "https://localhost:8080/"
        },
        "outputId": "78ef2f34-d3e0-422a-cbfd-e8f2ae47cfdf"
      },
      "source": [
        "\n",
        "# Write a Python program to remove the characters which have odd index values of a given string.\n",
        "\n",
        "s = input('Enter a string  ')\n",
        "print(s[::2])\n",
        "newstr = ''\n",
        "for i in range(len(s)):\n",
        "  if i % 2 == 0 :\n",
        "    newstr += s[i]\n",
        "\n",
        "print(newstr)"
      ],
      "execution_count": null,
      "outputs": [
        {
          "output_type": "stream",
          "name": "stdout",
          "text": [
            "Enter a string  Hello World\n",
            "HloWrd\n",
            "HloWrd\n"
          ]
        }
      ]
    },
    {
      "cell_type": "code",
      "metadata": {
        "id": "aaC1NGuMinll"
      },
      "source": [
        "\n",
        "''' Write a Python program to add 'ing' at the end of a given string (length should be at least 3).\n",
        "    If the given string already ends with 'ing' then add 'ly' instead.\n",
        "    If the string length of the given string is less than 3, leave it unchanged '''\n",
        "\n",
        "s = input('Enter a string  ')\n",
        "\n",
        "l = int(len(s))\n",
        "if len(s) < 3 :\n",
        "  pass\n",
        "elif s[-3:] == 'ing':\n",
        "  s = s + 'ly'\n",
        "else :\n",
        "  s = s + 'ing'\n",
        "\n",
        "print(s)"
      ],
      "execution_count": null,
      "outputs": []
    },
    {
      "cell_type": "code",
      "metadata": {
        "id": "vhcWnbkPpsNn"
      },
      "source": [
        "# Sort a list\n",
        "\n",
        "list1 = [ 10 , 15 , 8 , 7 , 2 , 1 , 101 , 6 , 0 , 88 , 19]\n",
        "list2 = []\n",
        "for i in range(len(list1)) :\n",
        "  x = min(list1)\n",
        "  y = list1.index(x)\n",
        "  list2.append(x)\n",
        "  list1.pop(y)\n",
        "print(list2)\n"
      ],
      "execution_count": null,
      "outputs": []
    },
    {
      "cell_type": "code",
      "source": [
        "''' Write a python fucntion to return how many upper case letters and lower case letters in a string :\n",
        "example \"Machine Learning\" => {'upper':2, 'lower':13} '''\n",
        "\n",
        "string = input('Enter a string ')\n",
        "def upper (string) :\n",
        "\n",
        "  lower = 0\n",
        "  upper = 0\n",
        "\n",
        "  for i in string :\n",
        "    if i.isupper() :\n",
        "      upper += 1\n",
        "    elif i.islower() :\n",
        "      lower += 1\n",
        "  print(\"Number of upper cases = \", upper)\n",
        "  print(\"Number of lower cases = \", lower)\n",
        "\n",
        "upper(string)"
      ],
      "metadata": {
        "id": "elHlxfEe7tES"
      },
      "execution_count": null,
      "outputs": []
    },
    {
      "cell_type": "code",
      "source": [
        "# Write a python function that takes a number and returns if number is prime or not\n",
        "\n",
        "num = int(input(' Enter an Integer   '))\n",
        "\n",
        "def isprime (num) :\n",
        "  isprime = True\n",
        "  if num > 1:\n",
        "     for i in range(2, num//2):\n",
        "       if (num % i) == 0:\n",
        "          isprime = False\n",
        "          break\n",
        "  else:\n",
        "    isprime = False\n",
        "\n",
        "  if isprime :\n",
        "    print(num, \"is a prime number\")\n",
        "  else :\n",
        "    print(num, \"is not a prime number\")\n",
        "\n",
        "isprime(num)"
      ],
      "metadata": {
        "id": "t7ha6HBG7wn0"
      },
      "execution_count": null,
      "outputs": []
    },
    {
      "cell_type": "code",
      "source": [
        "# Write a python funtion to return a list of even numbers between 0 and n\n",
        "\n",
        "n = int(input(' Enter an Integer   '))\n",
        "def evenNumbers(n) :\n",
        "  lis = []\n",
        "  for i in range(0,n,2) :\n",
        "    lis.append(i)\n",
        "\n",
        "  print(lis)\n",
        "\n",
        "evenNumbers(n)"
      ],
      "metadata": {
        "id": "jSHpQvRn70eD"
      },
      "execution_count": null,
      "outputs": []
    },
    {
      "cell_type": "code",
      "source": [
        "# Write a python function to return minimum number in a list ( dont use min function)\n",
        "\n",
        "lis = [1 , 10 , 40 , 12 , 16 , 17 , 9 , 5 , 7 , 0 , -1]\n",
        "def min(lis) :\n",
        "    min = lis[0]\n",
        "    for i in range(1,len(lis)) :\n",
        "        if lis[i] < min :\n",
        "            min = lis[i]\n",
        "\n",
        "    print(' The minimum value is :  ' ,min)\n",
        "\n",
        "min(lis)"
      ],
      "metadata": {
        "id": "gkmjeOZr78mO"
      },
      "execution_count": null,
      "outputs": []
    },
    {
      "cell_type": "code",
      "source": [
        "# Write a Python function to check whether a string is a pangram or not\n",
        "# A string is a pangram string if it contains all the character of the alphabets ignoring the case of the alphabets.\n",
        "\n",
        "def ispangram(str):\n",
        "    alphabet = \"abcdefghijklmnopqrstuvwxyz\"\n",
        "    if len(str) < 28 :\n",
        "      return False\n",
        "    else :\n",
        "      for char in alphabet:\n",
        "        if char not in str.lower():\n",
        "            return False\n",
        "\n",
        "    return True\n",
        "\n",
        "string = input('Enter a string   ')\n",
        "if(ispangram(string) == True):\n",
        "    print(\"The string is a pangram\")\n",
        "else:\n",
        "    print(\"The string is not a pangram\")"
      ],
      "metadata": {
        "id": "WLsrnoBN79DP"
      },
      "execution_count": null,
      "outputs": []
    }
  ]
}